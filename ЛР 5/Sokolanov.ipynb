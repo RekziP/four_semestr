{
 "cells": [
  {
   "cell_type": "markdown",
   "id": "ec418fbe",
   "metadata": {},
   "source": [
    "# Упражнение 1. Работа с файловой системой"
   ]
  },
  {
   "cell_type": "markdown",
   "id": "70c69f43",
   "metadata": {},
   "source": [
    "*Написать скрипт для создания новой директории. Пусть скрипт принимает имя директории от пользователя и создает ее в указанном месте. Если директория уже существует, скрипт должен сообщить об этом.\n",
    "\n",
    "*Написать функцию для перечисления всех файлов в данной директории и всех ее поддиректориях. Функция должна выводить абсолютные пути файлов"
   ]
  },
  {
   "cell_type": "code",
   "execution_count": 1,
   "id": "51fd58e0",
   "metadata": {
    "ExecuteTime": {
     "end_time": "2024-05-03T09:13:57.552862Z",
     "start_time": "2024-05-03T09:13:57.516223Z"
    }
   },
   "outputs": [],
   "source": [
    "import os"
   ]
  },
  {
   "cell_type": "code",
   "execution_count": 2,
   "id": "66159cdc",
   "metadata": {
    "ExecuteTime": {
     "end_time": "2024-05-03T09:14:02.618833Z",
     "start_time": "2024-05-03T09:13:57.555587Z"
    }
   },
   "outputs": [],
   "source": [
    "directory = input(r\"dir\")"
   ]
  },
  {
   "cell_type": "code",
   "execution_count": 3,
   "id": "7b25213b",
   "metadata": {
    "ExecuteTime": {
     "end_time": "2024-05-03T09:14:02.640764Z",
     "start_time": "2024-05-03T09:14:02.622925Z"
    }
   },
   "outputs": [
    {
     "data": {
      "text/plain": "'dir'"
     },
     "execution_count": 3,
     "metadata": {},
     "output_type": "execute_result"
    }
   ],
   "source": [
    "directory"
   ]
  },
  {
   "cell_type": "code",
   "execution_count": 4,
   "id": "aa66ee17",
   "metadata": {
    "ExecuteTime": {
     "end_time": "2024-05-03T09:14:02.650257Z",
     "start_time": "2024-05-03T09:14:02.642823Z"
    }
   },
   "outputs": [
    {
     "name": "stdout",
     "output_type": "stream",
     "text": [
      "Директория уже существует\n"
     ]
    }
   ],
   "source": [
    "if os.path.exists(directory):\n",
    "    print(\"Директория уже существует\")\n",
    "else:\n",
    "    os.makedirs(directory)\n",
    "    print(f\"Директория {directory} создана\")"
   ]
  },
  {
   "cell_type": "code",
   "execution_count": 5,
   "id": "2da90f56",
   "metadata": {
    "ExecuteTime": {
     "end_time": "2024-05-03T09:14:02.654866Z",
     "start_time": "2024-05-03T09:14:02.651682Z"
    }
   },
   "outputs": [],
   "source": [
    "def list_files(directory):\n",
    "    for root, dirs, files in os.walk(directory):\n",
    "        for file in files:\n",
    "            print(os.path.join(root, file))"
   ]
  },
  {
   "cell_type": "code",
   "execution_count": 6,
   "id": "5cb98ec1",
   "metadata": {
    "ExecuteTime": {
     "end_time": "2024-05-03T09:14:04.838400Z",
     "start_time": "2024-05-03T09:14:02.655938Z"
    }
   },
   "outputs": [
    {
     "name": "stdout",
     "output_type": "stream",
     "text": [
      "dir/untitled.txt\n"
     ]
    }
   ],
   "source": [
    "directory = input(r\"dir\")\n",
    "list_files(directory)"
   ]
  },
  {
   "cell_type": "code",
   "execution_count": 7,
   "id": "be055bfe",
   "metadata": {
    "ExecuteTime": {
     "end_time": "2024-05-03T09:14:04.843798Z",
     "start_time": "2024-05-03T09:14:04.840620Z"
    }
   },
   "outputs": [
    {
     "name": "stdout",
     "output_type": "stream",
     "text": [
      "dir/untitled.txt\n"
     ]
    }
   ],
   "source": [
    "list_files(directory)"
   ]
  },
  {
   "cell_type": "markdown",
   "id": "8dfe2fc8",
   "metadata": {},
   "source": [
    "# Упражнение 2. Работа с процессами"
   ]
  },
  {
   "cell_type": "markdown",
   "id": "c1f9430a",
   "metadata": {},
   "source": [
    "*Написать скрипт для запуска внешних команд или программ. Пусть скрипт запускает команду ping для проверки доступности какого-либо ресурса в сети, например, google.com. Результат выполнения команды должен быть выведен пользователю.\n",
    "\n",
    "*Исследовать возможности модуля subprocess. Написать скрипт, который выполняет команду ls (для Unix/Linux) или dir (для Windows) и обрабатывает результат: выводит количество файлов в директории."
   ]
  },
  {
   "cell_type": "code",
   "execution_count": 8,
   "id": "c5352d5e",
   "metadata": {
    "ExecuteTime": {
     "end_time": "2024-05-03T09:14:04.849858Z",
     "start_time": "2024-05-03T09:14:04.845096Z"
    }
   },
   "outputs": [],
   "source": [
    "import subprocess"
   ]
  },
  {
   "cell_type": "code",
   "execution_count": 9,
   "id": "79ba282d",
   "metadata": {
    "ExecuteTime": {
     "end_time": "2024-05-03T09:14:04.872421Z",
     "start_time": "2024-05-03T09:14:04.850683Z"
    }
   },
   "outputs": [
    {
     "name": "stderr",
     "output_type": "stream",
     "text": [
      "usage: ping [-AaDdfnoQqRrv] [-c count] [-G sweepmaxsize]\n",
      "            [-g sweepminsize] [-h sweepincrsize] [-i wait]\n",
      "            [-l preload] [-M mask | time] [-m ttl] [-p pattern]\n",
      "            [-S src_addr] [-s packetsize] [-t timeout][-W waittime]\n",
      "            [-z tos] host\n",
      "       ping [-AaDdfLnoQqRrv] [-c count] [-I iface] [-i wait]\n",
      "            [-l preload] [-M mask | time] [-m ttl] [-p pattern] [-S src_addr]\n",
      "            [-s packetsize] [-T ttl] [-t timeout] [-W waittime]\n",
      "            [-z tos] mcast-group\n",
      "Apple specific options (to be specified before mcast-group or host like all options)\n",
      "            -b boundif           # bind the socket to the interface\n",
      "            -k traffic_class     # set traffic class socket option\n",
      "            -K net_service_type  # set traffic class socket options\n",
      "            --apple-connect       # call connect(2) in the socket\n",
      "            --apple-time          # display current time\n"
     ]
    },
    {
     "data": {
      "text/plain": "CompletedProcess(args=['ping', '-n', '4', 'google.com'], returncode=64)"
     },
     "execution_count": 9,
     "metadata": {},
     "output_type": "execute_result"
    }
   ],
   "source": [
    "subprocess.run([\"ping\", \"-n\", \"4\", \"google.com\"])"
   ]
  },
  {
   "cell_type": "code",
   "execution_count": 10,
   "id": "e1db524b",
   "metadata": {
    "ExecuteTime": {
     "end_time": "2024-05-03T09:14:04.911307Z",
     "start_time": "2024-05-03T09:14:04.877553Z"
    }
   },
   "outputs": [
    {
     "name": "stdout",
     "output_type": "stream",
     "text": [
      "Laboratory_5_Belyaninov_PM22-1.ipynb\n",
      "\u001B[34mdir\u001B[m\u001B[m\n",
      "\n",
      "Количество элементов: 2\n"
     ]
    }
   ],
   "source": [
    "try:\n",
    "    output = subprocess.check_output(\"ls\", shell=True, text=True, encoding='cp866')\n",
    "    print(output)\n",
    "    files = output.strip().split('\\n')\n",
    "    print(f\"Количество элементов: {len(files)}\")\n",
    "except subprocess.CalledProcessError as e:\n",
    "    print(f\"Ошибка выполнения команды: {e}\")"
   ]
  },
  {
   "cell_type": "code",
   "execution_count": 11,
   "id": "4e653ecd",
   "metadata": {
    "ExecuteTime": {
     "end_time": "2024-05-03T09:14:04.916198Z",
     "start_time": "2024-05-03T09:14:04.913126Z"
    }
   },
   "outputs": [
    {
     "name": "stdout",
     "output_type": "stream",
     "text": [
      "Количество файлов: 2\n"
     ]
    }
   ],
   "source": [
    "files = output.strip().split('\\n')\n",
    "print(f\"Количество файлов: {len(files)}\")"
   ]
  },
  {
   "cell_type": "markdown",
   "id": "b998a3d2",
   "metadata": {},
   "source": [
    "# Упражнение 3. Работа с сетями"
   ]
  },
  {
   "cell_type": "markdown",
   "id": "47b6a027",
   "metadata": {},
   "source": [
    "*Написать скрипт для проверки доступности веб-сайта. Скрипт должен отправлять HTTP-запрос к выбранному веб-сайту и выводить статус-код ответа.\n",
    "\n",
    "*Изучить модуль socket. Написать скрипт, который подключается к серверу по заданному адресу и порту, отправляет простое текстовое сообщение и получает ответ."
   ]
  },
  {
   "cell_type": "code",
   "execution_count": 12,
   "id": "33ac3f37",
   "metadata": {
    "ExecuteTime": {
     "end_time": "2024-05-03T09:14:05.136954Z",
     "start_time": "2024-05-03T09:14:04.917837Z"
    }
   },
   "outputs": [],
   "source": [
    "import requests\n",
    "import time"
   ]
  },
  {
   "cell_type": "code",
   "execution_count": 13,
   "id": "1ada412f",
   "metadata": {
    "ExecuteTime": {
     "end_time": "2024-05-03T09:14:05.273068Z",
     "start_time": "2024-05-03T09:14:05.137916Z"
    }
   },
   "outputs": [
    {
     "name": "stdout",
     "output_type": "stream",
     "text": [
      "Статус-код: 200\n"
     ]
    }
   ],
   "source": [
    "response = requests.get(\"http://www.google.com\")\n",
    "print(f\"Статус-код: {response.status_code}\")"
   ]
  },
  {
   "cell_type": "code",
   "execution_count": 14,
   "id": "23bed400",
   "metadata": {
    "ExecuteTime": {
     "end_time": "2024-05-03T09:14:05.372291Z",
     "start_time": "2024-05-03T09:14:05.274119Z"
    }
   },
   "outputs": [],
   "source": [
    "start_time = time.time()\n",
    "response = requests.get(\"http://www.google.com\")\n",
    "end_time = time.time()"
   ]
  },
  {
   "cell_type": "code",
   "execution_count": 15,
   "id": "af712c36",
   "metadata": {
    "ExecuteTime": {
     "end_time": "2024-05-03T09:14:05.375691Z",
     "start_time": "2024-05-03T09:14:05.373002Z"
    }
   },
   "outputs": [
    {
     "name": "stdout",
     "output_type": "stream",
     "text": [
      "Статус-код: 200\n",
      "Тип содержимого: text/html; charset=ISO-8859-1\n",
      "Размер контента: 8719 байт\n",
      "Время ответа: 0.09636616706848145 секунд\n"
     ]
    }
   ],
   "source": [
    "print(f\"Статус-код: {response.status_code}\")\n",
    "print(f\"Тип содержимого: {response.headers.get('Content-Type')}\")\n",
    "print(f\"Размер контента: {response.headers.get('Content-Length')} байт\")\n",
    "print(f\"Время ответа: {end_time - start_time} секунд\")"
   ]
  },
  {
   "cell_type": "code",
   "execution_count": 16,
   "id": "b7e8c91c",
   "metadata": {
    "ExecuteTime": {
     "end_time": "2024-05-03T09:14:05.378356Z",
     "start_time": "2024-05-03T09:14:05.376560Z"
    }
   },
   "outputs": [],
   "source": [
    "import socket"
   ]
  },
  {
   "cell_type": "code",
   "execution_count": 17,
   "id": "c7f10b38",
   "metadata": {
    "ExecuteTime": {
     "end_time": "2024-05-03T09:14:05.381915Z",
     "start_time": "2024-05-03T09:14:05.379514Z"
    }
   },
   "outputs": [],
   "source": [
    "host = 'google.com'\n",
    "port = 80"
   ]
  },
  {
   "cell_type": "code",
   "execution_count": 18,
   "id": "3afaa0da",
   "metadata": {
    "ExecuteTime": {
     "end_time": "2024-05-03T09:14:05.386378Z",
     "start_time": "2024-05-03T09:14:05.383437Z"
    }
   },
   "outputs": [],
   "source": [
    "request = f\"GET / HTTP/1.1\\r\\nHost: {host}\\r\\nConnection: close\\r\\n\\r\\n\""
   ]
  },
  {
   "cell_type": "code",
   "execution_count": 19,
   "id": "4e528ffe",
   "metadata": {
    "ExecuteTime": {
     "end_time": "2024-05-03T09:14:05.568391Z",
     "start_time": "2024-05-03T09:14:05.387364Z"
    }
   },
   "outputs": [],
   "source": [
    "with socket.socket(socket.AF_INET, socket.SOCK_STREAM) as s:\n",
    "    s.connect((host, port))\n",
    "\n",
    "    s.sendall(request.encode())\n",
    "\n",
    "    response = \"\"\n",
    "    while True:\n",
    "        part = s.recv(4096).decode()\n",
    "        if not part:\n",
    "            break\n",
    "        response += part"
   ]
  },
  {
   "cell_type": "code",
   "execution_count": 20,
   "id": "367c47a4",
   "metadata": {
    "ExecuteTime": {
     "end_time": "2024-05-03T09:14:05.571881Z",
     "start_time": "2024-05-03T09:14:05.569209Z"
    }
   },
   "outputs": [
    {
     "name": "stdout",
     "output_type": "stream",
     "text": [
      "Статус-код: 301\n",
      "Заголовки ответа:\n",
      "Location: http://www.google.com/\n",
      "Content-Type: text/html; charset=UTF-8\n",
      "Content-Security-Policy-Report-Only: object-src 'none';base-uri 'self';script-src 'nonce-Po0jSqke38DhUpdEXFq22w' 'strict-dynamic' 'report-sample' 'unsafe-eval' 'unsafe-inline' https: http:;report-uri https://csp.withgoogle.com/csp/gws/other-hp\n",
      "Date: Fri, 03 May 2024 09:14:05 GMT\n",
      "Expires: Sun, 02 Jun 2024 09:14:05 GMT\n",
      "Cache-Control: public, max-age=2592000\n",
      "Server: gws\n",
      "Content-Length: 219\n",
      "X-XSS-Protection: 0\n",
      "X-Frame-Options: SAMEORIGIN\n",
      "Connection: close\n"
     ]
    }
   ],
   "source": [
    "headers, _, body = response.partition('\\r\\n\\r\\n')\n",
    "status_line = headers.splitlines()[0]\n",
    "status_code = status_line.split(' ')[1]\n",
    "\n",
    "print(f\"Статус-код: {status_code}\")\n",
    "print(\"Заголовки ответа:\")\n",
    "print('\\n'.join(headers.splitlines()[1:]))"
   ]
  },
  {
   "cell_type": "markdown",
   "id": "52ce6a16",
   "metadata": {},
   "source": [
    "# Упражнение 4. Работа с системной информацией"
   ]
  },
  {
   "cell_type": "markdown",
   "id": "1ac9db6d",
   "metadata": {},
   "source": [
    "*Написать скрипт для отображения информации о системе. Скрипт должен выводить информацию о текущей операционной системе, версии Python, а также объем свободной и занятой памяти на диске.\n",
    "\n",
    "*Исследование модуля os. Написать функции для получения и вывода текущего рабочего каталога, изменения рабочего каталога и вывода списка всех переменных окружения."
   ]
  },
  {
   "cell_type": "code",
   "execution_count": 21,
   "id": "64172492",
   "metadata": {
    "ExecuteTime": {
     "end_time": "2024-05-03T09:14:07.941842Z",
     "start_time": "2024-05-03T09:14:07.926431Z"
    }
   },
   "outputs": [],
   "source": [
    "import os, platform, psutil"
   ]
  },
  {
   "cell_type": "code",
   "execution_count": 22,
   "id": "07153a41",
   "metadata": {
    "ExecuteTime": {
     "end_time": "2024-05-03T09:14:08.415656Z",
     "start_time": "2024-05-03T09:14:08.411716Z"
    }
   },
   "outputs": [
    {
     "name": "stdout",
     "output_type": "stream",
     "text": [
      "ОС: Darwin 23.2.0\n",
      "Версия Python: 3.11.7\n",
      "Свободно на диске: 3.21 GB\n"
     ]
    }
   ],
   "source": [
    "print(f\"ОС: {platform.system()} {platform.release()}\")\n",
    "print(f\"Версия Python: {platform.python_version()}\")\n",
    "print(f\"Свободно на диске: {psutil.disk_usage('/').free / (1024**3):.2f} GB\")"
   ]
  },
  {
   "cell_type": "code",
   "execution_count": 23,
   "id": "81484435",
   "metadata": {
    "ExecuteTime": {
     "end_time": "2024-05-03T09:14:08.760347Z",
     "start_time": "2024-05-03T09:14:08.757873Z"
    }
   },
   "outputs": [
    {
     "name": "stdout",
     "output_type": "stream",
     "text": [
      "Текущий рабочий каталог: /Users/aleksssokol3/Desktop/Материалы за 2 курс/Практикум/ЛР 5\n"
     ]
    }
   ],
   "source": [
    "print(f\"Текущий рабочий каталог: {os.getcwd()}\")"
   ]
  },
  {
   "cell_type": "code",
   "execution_count": 24,
   "id": "ba4a00bd",
   "metadata": {
    "ExecuteTime": {
     "end_time": "2024-05-03T09:14:09.118549Z",
     "start_time": "2024-05-03T09:14:09.113210Z"
    }
   },
   "outputs": [
    {
     "name": "stdout",
     "output_type": "stream",
     "text": [
      "Новый рабочий каталог: /Users/aleksssokol3/Desktop/Материалы за 2 курс/Практикум/ЛР 5/dir\n"
     ]
    }
   ],
   "source": [
    "os.chdir('dir')\n",
    "print(f\"Новый рабочий каталог: {os.getcwd()}\")"
   ]
  },
  {
   "cell_type": "code",
   "execution_count": 25,
   "id": "8f101ffd",
   "metadata": {
    "ExecuteTime": {
     "end_time": "2024-05-03T09:14:09.516306Z",
     "start_time": "2024-05-03T09:14:09.513008Z"
    }
   },
   "outputs": [
    {
     "name": "stdout",
     "output_type": "stream",
     "text": [
      "Переменные окружения:\n",
      "PATH: /Users/aleksssokol3/.local/bin:/Users/aleksssokol3/opt/anaconda3/bin:/Library/PostgreSQL/14/bin:/opt/anaconda3/bin:/opt/anaconda3/condabin:/Library/Frameworks/Python.framework/Versions/3.11/bin:/opt/homebrew/bin:/opt/homebrew/sbin:/Library/Frameworks/Python.framework/Versions/3.10/bin:/Library/Frameworks/Python.framework/Versions/3.8/bin:/usr/local/bin:/System/Cryptexes/App/usr/bin:/usr/bin:/bin:/usr/sbin:/sbin:/var/run/com.apple.security.cryptexd/codex.system/bootstrap/usr/local/bin:/var/run/com.apple.security.cryptexd/codex.system/bootstrap/usr/bin:/var/run/com.apple.security.cryptexd/codex.system/bootstrap/usr/appleinternal/bin:/Library/Apple/usr/bin:/Applications/Postgres.app/Contents/Versions/latest/bin:/usr/local/bin:/Users/aleksssokol3/flutter/bin\n",
      "GSETTINGS_SCHEMA_DIR_CONDA_BACKUP: \n",
      "MANPATH: /opt/homebrew/share/man::\n",
      "CONDA_DEFAULT_ENV: base\n",
      "CONDA_EXE: /opt/anaconda3/bin/conda\n",
      "CONDA_PYTHON_EXE: /opt/anaconda3/bin/python\n",
      "HOMEBREW_PREFIX: /opt/homebrew\n",
      "LANG: en_US.UTF-8\n",
      "COMMAND_MODE: unix2003\n",
      "CONDA_PREFIX: /opt/anaconda3\n",
      "_CE_M: \n",
      "LOGNAME: aleksssokol3\n",
      "HOMEBREW_REPOSITORY: /opt/homebrew\n",
      "XPC_SERVICE_NAME: application.com.jetbrains.dataspell.62193466.62194613\n",
      "PWD: /Users/aleksssokol3/Desktop/Материалы за 2 курс\n",
      "INFOPATH: /opt/homebrew/share/info:\n",
      "CONDA_SHLVL: 1\n",
      "__CFBundleIdentifier: com.jetbrains.dataspell\n",
      "LANGUAGE: \n",
      "PYTHONPATH: /Users/aleksssokol3/Desktop/Материалы за 2 курс\n",
      "SHELL: /bin/zsh\n",
      "OLDPWD: /\n",
      "HOMEBREW_CELLAR: /opt/homebrew/Cellar\n",
      "USER: aleksssokol3\n",
      "TMPDIR: /var/folders/1k/1svsgpvn59n67p8g04t5l3z40000gn/T/\n",
      "SSH_AUTH_SOCK: /private/tmp/com.apple.launchd.CNEmsQurQ6/Listeners\n",
      "_CE_CONDA: \n",
      "XPC_FLAGS: 0x0\n",
      "LC_ALL: en_US.UTF-8\n",
      "__CF_USER_TEXT_ENCODING: 0x1F5:0x7:0x31\n",
      "CONDA_PROMPT_MODIFIER: (base) \n",
      "GSETTINGS_SCHEMA_DIR: /opt/anaconda3/share/glib-2.0/schemas\n",
      "LC_CTYPE: ru_RU.UTF-8\n",
      "IDEA_INITIAL_DIRECTORY: /\n",
      "HOME: /Users/aleksssokol3\n",
      "PYDEVD_USE_FRAME_EVAL: NO\n",
      "JPY_SESSION_NAME: Практикум/ЛР 5/Laboratory_5_Belyaninov_PM22-1.ipynb\n",
      "JPY_PARENT_PID: 44575\n",
      "TERM: xterm-color\n",
      "CLICOLOR: 1\n",
      "FORCE_COLOR: 1\n",
      "CLICOLOR_FORCE: 1\n",
      "PAGER: cat\n",
      "GIT_PAGER: cat\n",
      "MPLBACKEND: module://matplotlib_inline.backend_inline\n"
     ]
    }
   ],
   "source": [
    "print(\"Переменные окружения:\")\n",
    "for key, value in os.environ.items():\n",
    "    print(f\"{key}: {value}\")"
   ]
  },
  {
   "cell_type": "markdown",
   "id": "abb81364",
   "metadata": {},
   "source": [
    "# Упражнение 5. Многопоточность и асинхронное программирование"
   ]
  },
  {
   "cell_type": "markdown",
   "id": "ff4dd2d3",
   "metadata": {},
   "source": [
    "*Пример многопоточного выполнения задач. Написать скрипт, который запускает несколько потоков для выполнения функции, которая симулирует длительную задачу (например, ожидание с использованием time.sleep()).\n",
    "\n",
    "*Асинхронное программирование с использованием asyncio. Написать асинхронный скрипт для выполнения и ожидания результатов нескольких асинхронных операций (например, асинхронных HTTP-запросов)."
   ]
  },
  {
   "cell_type": "code",
   "execution_count": 26,
   "id": "9a2176e7",
   "metadata": {
    "ExecuteTime": {
     "end_time": "2024-05-03T09:14:48.249631Z",
     "start_time": "2024-05-03T09:14:48.243362Z"
    }
   },
   "outputs": [],
   "source": [
    "import threading, time"
   ]
  },
  {
   "cell_type": "code",
   "execution_count": 30,
   "id": "5d5c142d",
   "metadata": {
    "ExecuteTime": {
     "end_time": "2024-05-03T09:18:59.909123Z",
     "start_time": "2024-05-03T09:18:59.906308Z"
    }
   },
   "outputs": [],
   "source": [
    "def task(name):\n",
    "    print(f\"Задача {name} началась\\n\")\n",
    "    time.sleep(2)\n",
    "    print(f\"\\nЗадача {name} завершена\")"
   ]
  },
  {
   "cell_type": "code",
   "execution_count": 31,
   "id": "36639e9e",
   "metadata": {
    "ExecuteTime": {
     "end_time": "2024-05-03T09:19:00.348274Z",
     "start_time": "2024-05-03T09:19:00.339976Z"
    }
   },
   "outputs": [
    {
     "name": "stdout",
     "output_type": "stream",
     "text": [
      "Задача Поток 1 началась\n",
      "Задача Поток 2 началась\n",
      "\n",
      "\n",
      "Задача Поток 3 началась\n",
      "\n",
      "Задача Поток 4 началась\n",
      "\n",
      "Задача Поток 5 началась\n"
     ]
    }
   ],
   "source": [
    "for i in range(5):\n",
    "    t = threading.Thread(target=task, args=(f\"Поток {i+1}\",))\n",
    "    t.start()"
   ]
  },
  {
   "cell_type": "code",
   "execution_count": 32,
   "id": "31b13291",
   "metadata": {
    "ExecuteTime": {
     "end_time": "2024-05-03T09:19:23.892303Z",
     "start_time": "2024-05-03T09:19:23.867859Z"
    }
   },
   "outputs": [],
   "source": [
    "import asyncio"
   ]
  },
  {
   "cell_type": "code",
   "execution_count": 33,
   "id": "96625bb7",
   "metadata": {
    "ExecuteTime": {
     "end_time": "2024-05-03T09:19:33.971613Z",
     "start_time": "2024-05-03T09:19:33.950289Z"
    }
   },
   "outputs": [],
   "source": [
    "async def async_task(name):\n",
    "    print(f\"Асинхронная задача {name} началась\")\n",
    "    await asyncio.sleep(2)\n",
    "    print(f\"Асинхронная задача {name} завершена\")"
   ]
  },
  {
   "cell_type": "code",
   "execution_count": 34,
   "id": "1896b332",
   "metadata": {
    "ExecuteTime": {
     "end_time": "2024-05-03T09:19:45.772798Z",
     "start_time": "2024-05-03T09:19:45.766078Z"
    }
   },
   "outputs": [],
   "source": [
    "tasks = [asyncio.create_task(async_task(f\"Задача {i+1}\")) for i in range(5)]"
   ]
  },
  {
   "cell_type": "code",
   "execution_count": 35,
   "id": "8e434524",
   "metadata": {
    "ExecuteTime": {
     "end_time": "2024-05-03T09:20:02.216590Z",
     "start_time": "2024-05-03T09:20:00.164627Z"
    }
   },
   "outputs": [
    {
     "name": "stdout",
     "output_type": "stream",
     "text": [
      "Асинхронная задача Задача 1 началась\n",
      "Асинхронная задача Задача 2 началась\n",
      "Асинхронная задача Задача 3 началась\n",
      "Асинхронная задача Задача 4 началась\n",
      "Асинхронная задача Задача 5 началась\n",
      "Асинхронная задача Задача 1 завершена\n",
      "Асинхронная задача Задача 2 завершена\n",
      "Асинхронная задача Задача 3 завершена\n",
      "Асинхронная задача Задача 4 завершена\n",
      "Асинхронная задача Задача 5 завершена\n"
     ]
    }
   ],
   "source": [
    "async def main():\n",
    "    await asyncio.gather(*(async_task(f\"Задача {i+1}\") for i in range(5)))\n",
    "\n",
    "await main()"
   ]
  },
  {
   "cell_type": "code",
   "execution_count": null,
   "id": "3138b49e",
   "metadata": {},
   "outputs": [],
   "source": []
  }
 ],
 "metadata": {
  "kernelspec": {
   "name": "python3",
   "language": "python",
   "display_name": "Python 3 (ipykernel)"
  },
  "language_info": {
   "codemirror_mode": {
    "name": "ipython",
    "version": 3
   },
   "file_extension": ".py",
   "mimetype": "text/x-python",
   "name": "python",
   "nbconvert_exporter": "python",
   "pygments_lexer": "ipython3",
   "version": "3.9.19"
  }
 },
 "nbformat": 4,
 "nbformat_minor": 5
}
